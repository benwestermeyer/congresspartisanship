{
 "cells": [
  {
   "cell_type": "code",
   "execution_count": 4,
   "metadata": {
    "scrolled": false
   },
   "outputs": [
    {
     "name": "stdout",
     "output_type": "stream",
     "text": [
      "https://www.govtrack.us/congress/votes/114-2016/s1/export/csv\n",
      "Success\n"
     ]
    }
   ],
   "source": [
    "import requests # to retrieve data from urls\n",
    "import shutil # to duplicate csv files\n",
    "\n",
    "import urllib3\n",
    "urllib3.disable_warnings(urllib3.exceptions.InsecureRequestWarning) # suppresses a certificate verification warning\n",
    "\n",
    "def callme(congress, bill):\n",
    "    url = \"https://www.govtrack.us/congress/votes/114-2016\" # we are looking at bills from 2016, the 114th congress\n",
    "    year = url[-4:] # this will help us title the csv files\n",
    "    url = url + \"/\" + congress + bill + \"/export/csv\" # create the full csv url based on the function call\n",
    "    print url\n",
    "    r = requests.get(url, verify=False, stream=True, timeout=10.0)\n",
    "    if r.status_code != 200: # if page is not found\n",
    "        print \"Failure!\"\n",
    "        exit()\n",
    "    else:\n",
    "        r.raw.decode_content = True\n",
    "        with open(\"%s%s%s.csv\" % (year, congress, bill), 'wb') as f:\n",
    "            shutil.copyfileobj(r.raw, f) # copy and save the csv\n",
    "        print \"Success\"\n",
    "\n",
    "for i in range(1,163): \n",
    "    callme(\"s\", str(i)) # we want to save csvs of the the senate votes 1-163 for the year 2016"
   ]
  },
  {
   "cell_type": "code",
   "execution_count": null,
   "metadata": {
    "collapsed": true
   },
   "outputs": [],
   "source": []
  }
 ],
 "metadata": {
  "kernelspec": {
   "display_name": "Python 2",
   "language": "python",
   "name": "python2"
  },
  "language_info": {
   "codemirror_mode": {
    "name": "ipython",
    "version": 2
   },
   "file_extension": ".py",
   "mimetype": "text/x-python",
   "name": "python",
   "nbconvert_exporter": "python",
   "pygments_lexer": "ipython2",
   "version": "2.7.14"
  }
 },
 "nbformat": 4,
 "nbformat_minor": 2
}
